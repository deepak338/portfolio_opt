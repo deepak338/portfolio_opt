{
 "cells": [
  {
   "cell_type": "markdown",
   "id": "3b35c048",
   "metadata": {},
   "source": [
    "## Portfolio Optimization"
   ]
  },
  {
   "cell_type": "code",
   "execution_count": 35,
   "id": "94032e7f",
   "metadata": {},
   "outputs": [],
   "source": [
    "# importing libraries\n",
    "\n",
    "import pandas as pd\n",
    "import numpy as np\n",
    "from datetime import datetime,timedelta\n",
    "import yfinance as yf\n",
    "from scipy.optimize import minimize"
   ]
  },
  {
   "cell_type": "markdown",
   "id": "8e76615f",
   "metadata": {},
   "source": [
    "#### Define tickers and time range"
   ]
  },
  {
   "cell_type": "code",
   "execution_count": 36,
   "id": "77c3e07c",
   "metadata": {},
   "outputs": [],
   "source": [
    "tickers=['SPY','BND','GLD','QQQ','VTI']"
   ]
  },
  {
   "cell_type": "code",
   "execution_count": 37,
   "id": "dacd7130",
   "metadata": {},
   "outputs": [],
   "source": [
    "#set end date to today\n",
    "end_date = datetime.today()\n",
    "\n",
    "# set start date to 10 years ago\n",
    "start_date = end_date - timedelta(days= 10* 365)\n"
   ]
  },
  {
   "cell_type": "markdown",
   "id": "2109f3f7",
   "metadata": {},
   "source": [
    "### download adjusted close price"
   ]
  },
  {
   "cell_type": "code",
   "execution_count": 38,
   "id": "e5dbcf9b",
   "metadata": {},
   "outputs": [],
   "source": [
    "# craete an empty dataframe to store the adjusted close prices\n",
    "adj_close_df=pd.DataFrame()"
   ]
  },
  {
   "cell_type": "code",
   "execution_count": 39,
   "id": "dd8e11dc",
   "metadata": {},
   "outputs": [
    {
     "name": "stderr",
     "output_type": "stream",
     "text": [
      "[*********************100%***********************]  1 of 1 completed\n",
      "[*********************100%***********************]  1 of 1 completed\n",
      "[*********************100%***********************]  1 of 1 completed\n",
      "[*********************100%***********************]  1 of 1 completed\n",
      "[*********************100%***********************]  1 of 1 completed\n"
     ]
    }
   ],
   "source": [
    "# Downloading data from Yahoo Finance\n",
    "for ticker in tickers:\n",
    "    data = yf.download(ticker, start=start_date,end=end_date, auto_adjust=False)  # The raw 'Close' and other prices are not adjusted. The 'Adj Close' column is included.\n",
    "    adj_close_df[ticker] = data['Adj Close']"
   ]
  },
  {
   "cell_type": "code",
   "execution_count": 40,
   "id": "4009f417",
   "metadata": {},
   "outputs": [
    {
     "name": "stdout",
     "output_type": "stream",
     "text": [
      "                   SPY        BND         GLD         QQQ         VTI\n",
      "Date                                                                 \n",
      "2015-06-17  177.184814  61.506413  113.849998  101.047386   92.153976\n",
      "2015-06-18  179.027466  61.461060  115.320000  102.520020   93.064240\n",
      "2015-06-19  178.232727  61.634762  115.120003  102.013184   92.659683\n",
      "2015-06-22  179.145828  61.340271  113.639999  102.765106   93.224365\n",
      "2015-06-23  179.272644  61.196758  112.889999  102.848663   93.317085\n",
      "...                ...        ...         ...         ...         ...\n",
      "2025-06-09  599.679993  72.320000  306.619995  530.700012  295.359985\n",
      "2025-06-10  603.080017  72.459999  306.709991  534.210022  296.920013\n",
      "2025-06-11  601.359985  72.690002  308.369995  532.409973  296.130005\n",
      "2025-06-12  603.750000  72.959999  312.200012  533.659973  297.079987\n",
      "2025-06-13  601.030029  72.610001  316.035004  531.190002  295.728790\n",
      "\n",
      "[2514 rows x 5 columns]\n"
     ]
    }
   ],
   "source": [
    "# display the dataframe\n",
    "print(adj_close_df)"
   ]
  },
  {
   "cell_type": "markdown",
   "id": "0caf4440",
   "metadata": {},
   "source": [
    "### calculating lognormal returns"
   ]
  },
  {
   "cell_type": "code",
   "execution_count": 41,
   "id": "ffc96d06",
   "metadata": {},
   "outputs": [],
   "source": [
    "log_returns = np.log(adj_close_df/adj_close_df.shift(1))"
   ]
  },
  {
   "cell_type": "code",
   "execution_count": 42,
   "id": "67d07b7b",
   "metadata": {},
   "outputs": [],
   "source": [
    "# drop missing values\n",
    "log_returns=log_returns.dropna()"
   ]
  },
  {
   "cell_type": "markdown",
   "id": "adfa5eb8",
   "metadata": {},
   "source": [
    "### calculate the covariance matrix"
   ]
  },
  {
   "cell_type": "code",
   "execution_count": 43,
   "id": "6ba6990e",
   "metadata": {},
   "outputs": [
    {
     "name": "stdout",
     "output_type": "stream",
     "text": [
      "Covariance Matrix:\n",
      "           SPY       BND       GLD       QQQ       VTI\n",
      "SPY  0.033682  0.001151  0.001247  0.038807  0.034189\n",
      "BND  0.001151  0.003043  0.002745  0.001433  0.001241\n",
      "GLD  0.001247  0.002745  0.020839  0.001842  0.001356\n",
      "QQQ  0.038807  0.001433  0.001842  0.051262  0.039332\n",
      "VTI  0.034189  0.001241  0.001356  0.039332  0.034974\n"
     ]
    }
   ],
   "source": [
    "cov_matrix = log_returns.cov() * 252  # Annualize the covariance matrix\n",
    "print(\"Covariance Matrix:\\n\", cov_matrix)"
   ]
  },
  {
   "cell_type": "markdown",
   "id": "27372878",
   "metadata": {},
   "source": [
    "### define portfolio performance matrics"
   ]
  },
  {
   "cell_type": "code",
   "execution_count": 44,
   "id": "a6843387",
   "metadata": {},
   "outputs": [],
   "source": [
    "# calculate the portfolio standard deviation\n",
    "def std_dev(weights,cov_matrix):\n",
    "    variance= weights.T@ cov_matrix @ weights\n",
    "    return np.sqrt(variance)"
   ]
  },
  {
   "cell_type": "code",
   "execution_count": 45,
   "id": "8fc810c3",
   "metadata": {},
   "outputs": [],
   "source": [
    "# calculate the expected portfolio return\n",
    "\n",
    "# * key assumption: the expected returns are based on historical returns\n",
    "def expected_return(weights,log_retuerns):\n",
    "    return np.sum(weights * log_returns.mean()) * 252  # Annualize the expected return\n"
   ]
  },
  {
   "cell_type": "code",
   "execution_count": 46,
   "id": "abfd0446",
   "metadata": {},
   "outputs": [],
   "source": [
    "# calculate the sharpe ratio\n",
    "# sharpe ratio = (expected return - risk free rate) / standard deviation\n",
    "\n",
    "def sharpe_ratio(weights,log_returns,risk_free_rate=0.02):\n",
    "    return(expected_return(weights,log_returns)-risk_free_rate)/std_dev(weights,cov_matrix)"
   ]
  },
  {
   "cell_type": "code",
   "execution_count": 47,
   "id": "0a3b5bfe",
   "metadata": {},
   "outputs": [],
   "source": [
    "# define the function to minimize (negative sharpe ratio)\n",
    "def neg_sharpe_ratio(weights,log_returns,cov_matrix,risk_free_rate=0.02):\n",
    "    return -sharpe_ratio(weights,log_returns,risk_free_rate)"
   ]
  },
  {
   "cell_type": "code",
   "execution_count": 48,
   "id": "a6a8b594",
   "metadata": {},
   "outputs": [],
   "source": [
    "# set constraints and bounds\n",
    "constraints = ({'type': 'eq', 'fun': lambda x: np.sum(x) - 1})  # weights must sum to 1\n",
    "bounds = tuple((0, 0.5) for _ in range(len(tickers)))  # weights must be between 0 and 0.5\n",
    "\n"
   ]
  },
  {
   "cell_type": "code",
   "execution_count": 49,
   "id": "9e2dd842",
   "metadata": {},
   "outputs": [],
   "source": [
    "# set the initial weights\n",
    "initial_weights = np.array([1/len(tickers)] * len(tickers))  # equal weights\n",
    "\n"
   ]
  },
  {
   "cell_type": "code",
   "execution_count": 50,
   "id": "59d246d1",
   "metadata": {},
   "outputs": [],
   "source": [
    "# optimize the weights to maximize the sharpe ratio\n",
    "result = minimize(neg_sharpe_ratio, initial_weights, args=(log_returns, cov_matrix), method='SLSQP', bounds=bounds, constraints=constraints)"
   ]
  },
  {
   "cell_type": "code",
   "execution_count": 51,
   "id": "06a83535",
   "metadata": {},
   "outputs": [],
   "source": [
    "# get the optimal weights\n",
    "optimal_weights = result.x"
   ]
  },
  {
   "cell_type": "markdown",
   "id": "f28cebf1",
   "metadata": {},
   "source": [
    "### Analyze the optimal portfolio"
   ]
  },
  {
   "cell_type": "code",
   "execution_count": 52,
   "id": "fb634814",
   "metadata": {},
   "outputs": [
    {
     "name": "stdout",
     "output_type": "stream",
     "text": [
      "Optimal Weights:\n",
      " [1.38777878e-17 1.80411242e-16 5.00000000e-01 5.00000000e-01\n",
      " 0.00000000e+00]\n",
      "SPY: 0.0000%\n",
      "BND: 0.0000%\n",
      "GLD: 50.0000%\n",
      "QQQ: 50.0000%\n",
      "VTI: 0.0000%\n",
      "Expected Portfolio Return: 13.4398%\n",
      "Expected Annual Return: 0.1344\n",
      "Expected Portfolio Volatility: 0.1376\n",
      "Optimal Sharpe Ratio: 0.8311\n"
     ]
    }
   ],
   "source": [
    "# display the optimal portfolio \n",
    "print(\"Optimal Weights:\\n\", optimal_weights)\n",
    "for ticker,weight in zip(tickers, optimal_weights):\n",
    "    print(f\"{ticker}: {weight:.4%}\")\n",
    "print(\"Expected Portfolio Return: {:.4%}\".format(expected_return(optimal_weights, log_returns)))\n",
    "\n",
    "optimal_portfolio_return = expected_return(optimal_weights, log_returns)\n",
    "optimal_portfolio_volatility = std_dev(optimal_weights, cov_matrix)\n",
    "optimal_sharpe_ratio = sharpe_ratio(optimal_weights, log_returns)\n",
    "\n",
    "print(f\"Expected Annual Return: {optimal_portfolio_return:.4f}\")\n",
    "print(f\"Expected Portfolio Volatility: {optimal_portfolio_volatility:.4f}\")\n",
    "print(f\"Optimal Sharpe Ratio: {optimal_sharpe_ratio:.4f}\")"
   ]
  },
  {
   "cell_type": "markdown",
   "id": "0461d6d9",
   "metadata": {},
   "source": [
    "### display the final portfolio in plot"
   ]
  },
  {
   "cell_type": "code",
   "execution_count": 53,
   "id": "7c471e31",
   "metadata": {},
   "outputs": [
    {
     "data": {
      "text/plain": [
       "Text(0.5, 1.0, 'Optimal Portfolio Weights')"
      ]
     },
     "execution_count": 53,
     "metadata": {},
     "output_type": "execute_result"
    },
    {
     "data": {
      "image/png": "[encoded data removed]",
      "text/plain": [
       "<Figure size 1000x600 with 1 Axes>"
      ]
     },
     "metadata": {},
     "output_type": "display_data"
    }
   ],
   "source": [
    "import matplotlib.pyplot as plt\n",
    "\n",
    "# create a bar chart for the optimal weights\n",
    "plt.figure(figsize=(10, 6))\n",
    "plt.bar(tickers, optimal_weights, color='skyblue')\n",
    "plt.title('Optimal Portfolio Weights')\n",
    "plt.xlabel('Assets')\n",
    "plt.ylabel('Weight')\n",
    "plt.xticks(rotation=45)\n",
    "plt.title('Optimal Portfolio Weights')\n",
    "\n"
   ]
  }
 ],
 "metadata": {
  "kernelspec": {
   "display_name": ".venv",
   "language": "python",
   "name": "python3"
  },
  "language_info": {
   "codemirror_mode": {
    "name": "ipython",
    "version": 3
   },
   "file_extension": ".py",
   "mimetype": "text/x-python",
   "name": "python",
   "nbconvert_exporter": "python",
   "pygments_lexer": "ipython3",
   "version": "3.13.4"
  }
 },
 "nbformat": 4,
 "nbformat_minor": 5
}
